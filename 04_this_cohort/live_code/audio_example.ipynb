{
 "cells": [
  {
   "cell_type": "code",
   "execution_count": 3,
   "id": "338fb626-d92d-4d12-a900-3ba6f55aec41",
   "metadata": {},
   "outputs": [],
   "source": [
    "# pip install pandas\n",
    "import pandas as pd\n",
    "import numpy as np\n",
    "import timeit\n",
    "import os"
   ]
  },
  {
   "cell_type": "code",
   "execution_count": null,
   "id": "192b5229-0a81-4b4a-bfc0-da5e3223ff86",
   "metadata": {},
   "outputs": [],
   "source": []
  },
  {
   "cell_type": "code",
   "execution_count": null,
   "id": "9d2ef021-77e8-4011-a8a1-22e2e7f92cbf",
   "metadata": {},
   "outputs": [],
   "source": []
  },
  {
   "cell_type": "code",
   "execution_count": null,
   "id": "e3d278bf-1b6c-44e0-8887-3ca23fcf9c32",
   "metadata": {},
   "outputs": [],
   "source": [
    "2 min -> 122472"
   ]
  },
  {
   "cell_type": "code",
   "execution_count": 10,
   "id": "07ff409d-831b-45bc-819e-15e81bdebfd4",
   "metadata": {},
   "outputs": [
    {
     "data": {
      "text/plain": [
       "122472"
      ]
     },
     "execution_count": 10,
     "metadata": {},
     "output_type": "execute_result"
    }
   ],
   "source": [
    "# See how many files we have\n",
    "number_of_files = 122472\n",
    "number_of_files"
   ]
  },
  {
   "cell_type": "code",
   "execution_count": 1,
   "id": "2756e463",
   "metadata": {},
   "outputs": [
    {
     "data": {
      "text/plain": [
       "170.1"
      ]
     },
     "execution_count": 1,
     "metadata": {},
     "output_type": "execute_result"
    }
   ],
   "source": [
    "((122472 * 2)/60)/24"
   ]
  },
  {
   "cell_type": "code",
   "execution_count": 4,
   "id": "b0555a81-5cc3-45b0-9e7b-88c14cefa8ac",
   "metadata": {},
   "outputs": [
    {
     "data": {
      "text/html": [
       "<div>\n",
       "<style scoped>\n",
       "    .dataframe tbody tr th:only-of-type {\n",
       "        vertical-align: middle;\n",
       "    }\n",
       "\n",
       "    .dataframe tbody tr th {\n",
       "        vertical-align: top;\n",
       "    }\n",
       "\n",
       "    .dataframe thead th {\n",
       "        text-align: right;\n",
       "    }\n",
       "</style>\n",
       "<table border=\"1\" class=\"dataframe\">\n",
       "  <thead>\n",
       "    <tr style=\"text-align: right;\">\n",
       "      <th></th>\n",
       "      <th>0</th>\n",
       "      <th>4096</th>\n",
       "      <th>-1046</th>\n",
       "      <th>0.1</th>\n",
       "      <th>-4</th>\n",
       "      <th>-648</th>\n",
       "      <th>-40</th>\n",
       "      <th>-17</th>\n",
       "      <th>28</th>\n",
       "      <th>-254</th>\n",
       "      <th>...</th>\n",
       "      <th>-10.26</th>\n",
       "      <th>-22.16</th>\n",
       "      <th>4.27</th>\n",
       "      <th>-20.15</th>\n",
       "      <th>19.13</th>\n",
       "      <th>-19.23</th>\n",
       "      <th>19.14</th>\n",
       "      <th>2.34</th>\n",
       "      <th>13.20</th>\n",
       "      <th>1.35</th>\n",
       "    </tr>\n",
       "  </thead>\n",
       "  <tbody>\n",
       "    <tr>\n",
       "      <th>0</th>\n",
       "      <td>0</td>\n",
       "      <td>0</td>\n",
       "      <td>0</td>\n",
       "      <td>0</td>\n",
       "      <td>0</td>\n",
       "      <td>0</td>\n",
       "      <td>0</td>\n",
       "      <td>0</td>\n",
       "      <td>0</td>\n",
       "      <td>0</td>\n",
       "      <td>...</td>\n",
       "      <td>0</td>\n",
       "      <td>0</td>\n",
       "      <td>0</td>\n",
       "      <td>0</td>\n",
       "      <td>0</td>\n",
       "      <td>0</td>\n",
       "      <td>0</td>\n",
       "      <td>0</td>\n",
       "      <td>0</td>\n",
       "      <td>0</td>\n",
       "    </tr>\n",
       "    <tr>\n",
       "      <th>1</th>\n",
       "      <td>0</td>\n",
       "      <td>0</td>\n",
       "      <td>0</td>\n",
       "      <td>0</td>\n",
       "      <td>0</td>\n",
       "      <td>0</td>\n",
       "      <td>0</td>\n",
       "      <td>0</td>\n",
       "      <td>0</td>\n",
       "      <td>0</td>\n",
       "      <td>...</td>\n",
       "      <td>0</td>\n",
       "      <td>0</td>\n",
       "      <td>0</td>\n",
       "      <td>0</td>\n",
       "      <td>0</td>\n",
       "      <td>0</td>\n",
       "      <td>0</td>\n",
       "      <td>0</td>\n",
       "      <td>0</td>\n",
       "      <td>0</td>\n",
       "    </tr>\n",
       "    <tr>\n",
       "      <th>2</th>\n",
       "      <td>0</td>\n",
       "      <td>0</td>\n",
       "      <td>0</td>\n",
       "      <td>0</td>\n",
       "      <td>0</td>\n",
       "      <td>0</td>\n",
       "      <td>0</td>\n",
       "      <td>0</td>\n",
       "      <td>0</td>\n",
       "      <td>0</td>\n",
       "      <td>...</td>\n",
       "      <td>0</td>\n",
       "      <td>0</td>\n",
       "      <td>0</td>\n",
       "      <td>0</td>\n",
       "      <td>0</td>\n",
       "      <td>0</td>\n",
       "      <td>0</td>\n",
       "      <td>0</td>\n",
       "      <td>0</td>\n",
       "      <td>0</td>\n",
       "    </tr>\n",
       "    <tr>\n",
       "      <th>3</th>\n",
       "      <td>0</td>\n",
       "      <td>0</td>\n",
       "      <td>0</td>\n",
       "      <td>0</td>\n",
       "      <td>0</td>\n",
       "      <td>0</td>\n",
       "      <td>0</td>\n",
       "      <td>0</td>\n",
       "      <td>0</td>\n",
       "      <td>0</td>\n",
       "      <td>...</td>\n",
       "      <td>0</td>\n",
       "      <td>0</td>\n",
       "      <td>0</td>\n",
       "      <td>0</td>\n",
       "      <td>0</td>\n",
       "      <td>0</td>\n",
       "      <td>0</td>\n",
       "      <td>0</td>\n",
       "      <td>0</td>\n",
       "      <td>0</td>\n",
       "    </tr>\n",
       "    <tr>\n",
       "      <th>4</th>\n",
       "      <td>0</td>\n",
       "      <td>0</td>\n",
       "      <td>0</td>\n",
       "      <td>0</td>\n",
       "      <td>0</td>\n",
       "      <td>0</td>\n",
       "      <td>0</td>\n",
       "      <td>0</td>\n",
       "      <td>0</td>\n",
       "      <td>0</td>\n",
       "      <td>...</td>\n",
       "      <td>0</td>\n",
       "      <td>0</td>\n",
       "      <td>0</td>\n",
       "      <td>0</td>\n",
       "      <td>0</td>\n",
       "      <td>0</td>\n",
       "      <td>0</td>\n",
       "      <td>0</td>\n",
       "      <td>0</td>\n",
       "      <td>0</td>\n",
       "    </tr>\n",
       "    <tr>\n",
       "      <th>...</th>\n",
       "      <td>...</td>\n",
       "      <td>...</td>\n",
       "      <td>...</td>\n",
       "      <td>...</td>\n",
       "      <td>...</td>\n",
       "      <td>...</td>\n",
       "      <td>...</td>\n",
       "      <td>...</td>\n",
       "      <td>...</td>\n",
       "      <td>...</td>\n",
       "      <td>...</td>\n",
       "      <td>...</td>\n",
       "      <td>...</td>\n",
       "      <td>...</td>\n",
       "      <td>...</td>\n",
       "      <td>...</td>\n",
       "      <td>...</td>\n",
       "      <td>...</td>\n",
       "      <td>...</td>\n",
       "      <td>...</td>\n",
       "      <td>...</td>\n",
       "    </tr>\n",
       "    <tr>\n",
       "      <th>1279</th>\n",
       "      <td>0</td>\n",
       "      <td>0</td>\n",
       "      <td>0</td>\n",
       "      <td>0</td>\n",
       "      <td>0</td>\n",
       "      <td>0</td>\n",
       "      <td>0</td>\n",
       "      <td>0</td>\n",
       "      <td>0</td>\n",
       "      <td>0</td>\n",
       "      <td>...</td>\n",
       "      <td>0</td>\n",
       "      <td>0</td>\n",
       "      <td>0</td>\n",
       "      <td>0</td>\n",
       "      <td>0</td>\n",
       "      <td>0</td>\n",
       "      <td>0</td>\n",
       "      <td>0</td>\n",
       "      <td>0</td>\n",
       "      <td>0</td>\n",
       "    </tr>\n",
       "    <tr>\n",
       "      <th>1280</th>\n",
       "      <td>0</td>\n",
       "      <td>0</td>\n",
       "      <td>0</td>\n",
       "      <td>0</td>\n",
       "      <td>0</td>\n",
       "      <td>0</td>\n",
       "      <td>0</td>\n",
       "      <td>0</td>\n",
       "      <td>0</td>\n",
       "      <td>0</td>\n",
       "      <td>...</td>\n",
       "      <td>0</td>\n",
       "      <td>0</td>\n",
       "      <td>0</td>\n",
       "      <td>0</td>\n",
       "      <td>0</td>\n",
       "      <td>0</td>\n",
       "      <td>0</td>\n",
       "      <td>0</td>\n",
       "      <td>0</td>\n",
       "      <td>0</td>\n",
       "    </tr>\n",
       "    <tr>\n",
       "      <th>1281</th>\n",
       "      <td>0</td>\n",
       "      <td>0</td>\n",
       "      <td>0</td>\n",
       "      <td>0</td>\n",
       "      <td>0</td>\n",
       "      <td>0</td>\n",
       "      <td>0</td>\n",
       "      <td>0</td>\n",
       "      <td>0</td>\n",
       "      <td>0</td>\n",
       "      <td>...</td>\n",
       "      <td>0</td>\n",
       "      <td>0</td>\n",
       "      <td>0</td>\n",
       "      <td>0</td>\n",
       "      <td>0</td>\n",
       "      <td>0</td>\n",
       "      <td>0</td>\n",
       "      <td>0</td>\n",
       "      <td>0</td>\n",
       "      <td>0</td>\n",
       "    </tr>\n",
       "    <tr>\n",
       "      <th>1282</th>\n",
       "      <td>0</td>\n",
       "      <td>0</td>\n",
       "      <td>0</td>\n",
       "      <td>0</td>\n",
       "      <td>0</td>\n",
       "      <td>0</td>\n",
       "      <td>0</td>\n",
       "      <td>0</td>\n",
       "      <td>0</td>\n",
       "      <td>0</td>\n",
       "      <td>...</td>\n",
       "      <td>0</td>\n",
       "      <td>0</td>\n",
       "      <td>0</td>\n",
       "      <td>0</td>\n",
       "      <td>0</td>\n",
       "      <td>0</td>\n",
       "      <td>0</td>\n",
       "      <td>0</td>\n",
       "      <td>0</td>\n",
       "      <td>0</td>\n",
       "    </tr>\n",
       "    <tr>\n",
       "      <th>1283</th>\n",
       "      <td>0</td>\n",
       "      <td>0</td>\n",
       "      <td>0</td>\n",
       "      <td>0</td>\n",
       "      <td>0</td>\n",
       "      <td>0</td>\n",
       "      <td>0</td>\n",
       "      <td>0</td>\n",
       "      <td>0</td>\n",
       "      <td>0</td>\n",
       "      <td>...</td>\n",
       "      <td>0</td>\n",
       "      <td>0</td>\n",
       "      <td>0</td>\n",
       "      <td>0</td>\n",
       "      <td>0</td>\n",
       "      <td>0</td>\n",
       "      <td>0</td>\n",
       "      <td>0</td>\n",
       "      <td>0</td>\n",
       "      <td>0</td>\n",
       "    </tr>\n",
       "  </tbody>\n",
       "</table>\n",
       "<p>1284 rows × 1488 columns</p>\n",
       "</div>"
      ],
      "text/plain": [
       "      0  4096  -1046  0.1  -4  -648  -40  -17  28  -254  ...  -10.26  -22.16  \\\n",
       "0     0     0      0    0   0     0    0    0   0     0  ...       0       0   \n",
       "1     0     0      0    0   0     0    0    0   0     0  ...       0       0   \n",
       "2     0     0      0    0   0     0    0    0   0     0  ...       0       0   \n",
       "3     0     0      0    0   0     0    0    0   0     0  ...       0       0   \n",
       "4     0     0      0    0   0     0    0    0   0     0  ...       0       0   \n",
       "...  ..   ...    ...  ...  ..   ...  ...  ...  ..   ...  ...     ...     ...   \n",
       "1279  0     0      0    0   0     0    0    0   0     0  ...       0       0   \n",
       "1280  0     0      0    0   0     0    0    0   0     0  ...       0       0   \n",
       "1281  0     0      0    0   0     0    0    0   0     0  ...       0       0   \n",
       "1282  0     0      0    0   0     0    0    0   0     0  ...       0       0   \n",
       "1283  0     0      0    0   0     0    0    0   0     0  ...       0       0   \n",
       "\n",
       "      4.27  -20.15  19.13  -19.23  19.14  2.34  13.20  1.35  \n",
       "0        0       0      0       0      0     0      0     0  \n",
       "1        0       0      0       0      0     0      0     0  \n",
       "2        0       0      0       0      0     0      0     0  \n",
       "3        0       0      0       0      0     0      0     0  \n",
       "4        0       0      0       0      0     0      0     0  \n",
       "...    ...     ...    ...     ...    ...   ...    ...   ...  \n",
       "1279     0       0      0       0      0     0      0     0  \n",
       "1280     0       0      0       0      0     0      0     0  \n",
       "1281     0       0      0       0      0     0      0     0  \n",
       "1282     0       0      0       0      0     0      0     0  \n",
       "1283     0       0      0       0      0     0      0     0  \n",
       "\n",
       "[1284 rows x 1488 columns]"
      ]
     },
     "execution_count": 4,
     "metadata": {},
     "output_type": "execute_result"
    }
   ],
   "source": [
    "# See what the file looks like\n",
    "df = pd.read_csv(\"test.csv\", index_col=0)\n",
    "df"
   ]
  },
  {
   "cell_type": "code",
   "execution_count": 6,
   "id": "5a181fde-7826-47b6-83bd-f4b0f722351a",
   "metadata": {},
   "outputs": [],
   "source": [
    "\n",
    "# Convert the fft representation of the audio back to the waveform\n",
    "def fft_to_audio(fft_df, fs = 44100):\n",
    "    fft_df = np.array(fft_df.drop(fft_df.columns[[0,1]], axis=1))\n",
    "    arr = np.zeros((fft_df.shape[0], 4096))\n",
    "    arr[:fft_df.shape[0], :fft_df.shape[1]] = fft_df\n",
    "    lst = []\n",
    "    \n",
    "    for ar in arr:\n",
    "        i = 0\n",
    "        lst1=[]\n",
    "        while i < len(ar):\n",
    "            lst1.append(complex(ar[i], ar[i+1]))\n",
    "            i+=2\n",
    "        lst.append(lst1)\n",
    "        \n",
    "    fft = np.array(lst)\n",
    "    data = np.fft.irfft(fft)\n",
    "    wav_data = np.concatenate(data)\n",
    "    return wav_data"
   ]
  },
  {
   "cell_type": "code",
   "execution_count": 7,
   "id": "97fea2f9-ff18-498b-94ab-0704f8cda20d",
   "metadata": {},
   "outputs": [
    {
     "data": {
      "text/plain": [
       "array([0., 0., 0., ..., 0., 0., 0.])"
      ]
     },
     "execution_count": 7,
     "metadata": {},
     "output_type": "execute_result"
    }
   ],
   "source": [
    "fft_to_audio(df)"
   ]
  },
  {
   "cell_type": "code",
   "execution_count": 8,
   "id": "39bb77c1-27fc-492b-9ba5-e805f3f6282f",
   "metadata": {},
   "outputs": [
    {
     "data": {
      "text/plain": [
       "1.4542659469998398"
      ]
     },
     "execution_count": 8,
     "metadata": {},
     "output_type": "execute_result"
    }
   ],
   "source": [
    "time = timeit.timeit('fft_to_audio(df)', number=1, globals=globals())\n",
    "time"
   ]
  },
  {
   "cell_type": "code",
   "execution_count": 11,
   "id": "7dd55693-5ed7-4bd1-ae83-2fae0a8c18eb",
   "metadata": {},
   "outputs": [
    {
     "name": "stdout",
     "output_type": "stream",
     "text": [
      "178106.85906096437 seconds\n",
      "2968.447651016073 minutes\n",
      "49.47412751693455 hours\n",
      "2.061421979872273 days\n"
     ]
    }
   ],
   "source": [
    "print(str(number_of_files * time) + \" seconds\")\n",
    "print(str((number_of_files * time)/60) + \" minutes\")\n",
    "print(str((number_of_files * time)/3600) + \" hours\")\n",
    "print(str((number_of_files * time)/86400) + \" days\")"
   ]
  },
  {
   "cell_type": "code",
   "execution_count": null,
   "id": "8483e3a4-ea96-4c0c-be91-78679ed8058d",
   "metadata": {},
   "outputs": [],
   "source": []
  },
  {
   "cell_type": "code",
   "execution_count": 12,
   "id": "2698aeef-042f-4bd7-8b72-5c00900cba3e",
   "metadata": {},
   "outputs": [],
   "source": [
    "def fft_to_audio_optimized(fft_df, fs = 44100):\n",
    "    fft_df = np.array(fft_df.drop(fft_df.columns[[0,1]], axis=1))\n",
    "    arr = np.zeros((fft_df.shape[0], 4096))\n",
    "    arr[:fft_df.shape[0], :fft_df.shape[1]] = fft_df\n",
    "\n",
    "    fft = arr[::,::2] + (arr[::,1::2]*1j)\n",
    "    \n",
    "    data = np.fft.irfft(fft)\n",
    "    wav_data = np.concatenate(data)\n",
    "    return wav_data"
   ]
  },
  {
   "cell_type": "code",
   "execution_count": 13,
   "id": "04fc7c92-12ee-4b61-b64c-ce75fc7d3204",
   "metadata": {},
   "outputs": [
    {
     "data": {
      "text/plain": [
       "array([0., 0., 0., ..., 0., 0., 0.])"
      ]
     },
     "execution_count": 13,
     "metadata": {},
     "output_type": "execute_result"
    }
   ],
   "source": [
    "fft_to_audio_optimized(df)"
   ]
  },
  {
   "cell_type": "code",
   "execution_count": 14,
   "id": "08525301-decf-484d-9b64-63c7faf5ee47",
   "metadata": {},
   "outputs": [
    {
     "data": {
      "text/plain": [
       "0.23941055300019798"
      ]
     },
     "execution_count": 14,
     "metadata": {},
     "output_type": "execute_result"
    }
   ],
   "source": [
    "time = timeit.timeit('fft_to_audio_optimized(df)', number=1, globals=globals())\n",
    "time"
   ]
  },
  {
   "cell_type": "code",
   "execution_count": 15,
   "id": "de31bb9e-01d7-4aa6-846b-b9eca4b616c9",
   "metadata": {},
   "outputs": [
    {
     "name": "stdout",
     "output_type": "stream",
     "text": [
      "29321.089247040247 seconds\n",
      "488.6848207840041 minutes\n",
      "8.144747013066736 hours\n",
      "0.33936445887778066 days\n"
     ]
    }
   ],
   "source": [
    "print(str(number_of_files * time) + \" seconds\")\n",
    "print(str((number_of_files * time)/60) + \" minutes\")\n",
    "print(str((number_of_files * time)/3600) + \" hours\")\n",
    "print(str((number_of_files * time)/86400) + \" days\")"
   ]
  },
  {
   "cell_type": "code",
   "execution_count": null,
   "id": "60d4b824-997e-49aa-ac90-7b35d82df518",
   "metadata": {},
   "outputs": [],
   "source": [
    "# 14 cores, 28 threads\n",
    "# 32 cores, 64 threads"
   ]
  },
  {
   "cell_type": "code",
   "execution_count": 16,
   "id": "d79df948-7809-4364-b648-09cbc77065aa",
   "metadata": {},
   "outputs": [],
   "source": [
    "if False:\n",
    "    from joblib import Parallel, delayed\n",
    "    res = Parallel(n_jobs=64)(delayed(fft_to_audio_optimized)(i) for i in all_files)"
   ]
  },
  {
   "cell_type": "code",
   "execution_count": 17,
   "id": "75cbd60d-5a21-4ffa-85b0-52835e22f508",
   "metadata": {},
   "outputs": [
    {
     "name": "stdout",
     "output_type": "stream",
     "text": [
      "458.14201948500386 seconds\n",
      "7.635700324750064 minutes\n",
      "0.12726167207916775 hours\n",
      "0.005302569669965323 days\n"
     ]
    }
   ],
   "source": [
    "print(str(((number_of_files) * time)/64) + \" seconds\")\n",
    "print(str((((number_of_files) * time)/64)/60) + \" minutes\")\n",
    "print(str((((number_of_files) * time)/64)/3600) + \" hours\")\n",
    "print(str((((number_of_files) * time)/64)/86400) + \" days\")"
   ]
  },
  {
   "cell_type": "code",
   "execution_count": null,
   "id": "caac82ea-c6a7-4aff-a83f-61c3950f0489",
   "metadata": {},
   "outputs": [],
   "source": [
    "#  2 days -> 7 minutes"
   ]
  },
  {
   "cell_type": "code",
   "execution_count": null,
   "id": "27900a00",
   "metadata": {},
   "outputs": [],
   "source": [
    "# Repeated computation -> cache\n",
    "# smartwatch semi-continously recording audio\n",
    "# record 2 min, sleep 8 minutes, repeat throughout the day\n",
    "# 15 patients"
   ]
  },
  {
   "cell_type": "code",
   "execution_count": 18,
   "id": "d9c8912d",
   "metadata": {},
   "outputs": [
    {
     "data": {
      "text/plain": [
       "96.0"
      ]
     },
     "execution_count": 18,
     "metadata": {},
     "output_type": "execute_result"
    }
   ],
   "source": []
  },
  {
   "cell_type": "code",
   "execution_count": 19,
   "id": "9a2d0e71",
   "metadata": {},
   "outputs": [
    {
     "data": {
      "text/plain": [
       "129600"
      ]
     },
     "execution_count": 19,
     "metadata": {},
     "output_type": "execute_result"
    }
   ],
   "source": []
  },
  {
   "cell_type": "code",
   "execution_count": null,
   "id": "4702ceed",
   "metadata": {},
   "outputs": [],
   "source": []
  }
 ],
 "metadata": {
  "kernelspec": {
   "display_name": "Python 3 (ipykernel)",
   "language": "python",
   "name": "python3"
  },
  "language_info": {
   "codemirror_mode": {
    "name": "ipython",
    "version": 3
   },
   "file_extension": ".py",
   "mimetype": "text/x-python",
   "name": "python",
   "nbconvert_exporter": "python",
   "pygments_lexer": "ipython3",
   "version": "3.11.5"
  }
 },
 "nbformat": 4,
 "nbformat_minor": 5
}
